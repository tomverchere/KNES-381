{
 "cells": [
  {
   "cell_type": "markdown",
   "id": "aebc48bd",
   "metadata": {
    "papermill": {
     "duration": 0.00789,
     "end_time": "2024-03-21T18:18:11.830577",
     "exception": false,
     "start_time": "2024-03-21T18:18:11.822687",
     "status": "completed"
    },
    "tags": []
   },
   "source": [
    "<IMG SRC=\"https://ucalgary.ca/themes/ucalgary/ucws_theme/images/UCalgary.svg\" WIDTH=250 ALIGN=\"right\">    </IMG>\n",
    "## Plotting $\\dot{V}O_2$ continued...\n",
    "\n",
    "#### Developed by Dr. John Holash at the University of Calgary"
   ]
  },
  {
   "cell_type": "code",
   "execution_count": 1,
   "id": "7eb5c380",
   "metadata": {
    "_cell_guid": "b1076dfc-b9ad-4769-8c92-a6c4dae69d19",
    "_uuid": "8f2839f25d086af736a60e9eeb907d3b93b6e0e5",
    "execution": {
     "iopub.execute_input": "2024-03-21T18:18:11.846515Z",
     "iopub.status.busy": "2024-03-21T18:18:11.845752Z",
     "iopub.status.idle": "2024-03-21T18:18:11.861988Z",
     "shell.execute_reply": "2024-03-21T18:18:11.860769Z"
    },
    "papermill": {
     "duration": 0.027149,
     "end_time": "2024-03-21T18:18:11.864533",
     "exception": false,
     "start_time": "2024-03-21T18:18:11.837384",
     "status": "completed"
    },
    "tags": []
   },
   "outputs": [
    {
     "name": "stdout",
     "output_type": "stream",
     "text": [
      "/kaggle/input/demo-knes381/subject_1321.xlsx\n",
      "/kaggle/input/demo-knes381/subject_1432.xlsx\n",
      "/kaggle/input/demo-knes381/subject_1321.csv\n",
      "/kaggle/input/demo-knes381/subject_1232.csv\n",
      "/kaggle/input/demo-knes381/VO2_CSV.csv\n",
      "/kaggle/input/demo-knes381/subject_1232.xlsx\n",
      "/kaggle/input/demo-knes381/subject_1432.csv\n",
      "/kaggle/input/demo-knes381/subject_1523.csv\n",
      "/kaggle/input/demo-knes381/VO2_excel.xlsx\n",
      "/kaggle/input/demo-knes381/subject_1523.xlsx\n"
     ]
    }
   ],
   "source": [
    "# This Python 3 environment comes with many helpful analytics libraries installed\n",
    "# It is defined by the kaggle/python Docker image: https://github.com/kaggle/docker-python\n",
    "# For example, here's several helpful packages to load\n",
    "\n",
    "import numpy as np # linear algebra\n",
    "import pandas as pd # data processing, CSV file I/O (e.g. pd.read_csv)\n",
    "\n",
    "# Input data files are available in the read-only \"../input/\" directory\n",
    "# For example, running this (by clicking run or pressing Shift+Enter) will list all files under the input directory\n",
    "\n",
    "import os\n",
    "for dirname, _, filenames in os.walk('/kaggle/input'):\n",
    "    for filename in filenames:\n",
    "        print(os.path.join(dirname, filename))\n",
    "\n",
    "# You can write up to 20GB to the current directory (/kaggle/working/) that gets preserved as output when you create a version using \"Save & Run All\" \n",
    "# You can also write temporary files to /kaggle/temp/, but they won't be saved outside of the current session"
   ]
  },
  {
   "cell_type": "code",
   "execution_count": 2,
   "id": "35217062",
   "metadata": {
    "execution": {
     "iopub.execute_input": "2024-03-21T18:18:11.880316Z",
     "iopub.status.busy": "2024-03-21T18:18:11.879596Z",
     "iopub.status.idle": "2024-03-21T18:18:11.902399Z",
     "shell.execute_reply": "2024-03-21T18:18:11.901191Z"
    },
    "papermill": {
     "duration": 0.033629,
     "end_time": "2024-03-21T18:18:11.905280",
     "exception": false,
     "start_time": "2024-03-21T18:18:11.871651",
     "status": "completed"
    },
    "tags": []
   },
   "outputs": [],
   "source": [
    "df = pd.read_csv('../input/demo-knes381/subject_1432.csv', header=[0], skiprows=[1,2,3])"
   ]
  },
  {
   "cell_type": "code",
   "execution_count": 3,
   "id": "6954eda1",
   "metadata": {
    "execution": {
     "iopub.execute_input": "2024-03-21T18:18:11.921953Z",
     "iopub.status.busy": "2024-03-21T18:18:11.921532Z",
     "iopub.status.idle": "2024-03-21T18:18:11.947767Z",
     "shell.execute_reply": "2024-03-21T18:18:11.946407Z"
    },
    "papermill": {
     "duration": 0.038126,
     "end_time": "2024-03-21T18:18:11.950371",
     "exception": false,
     "start_time": "2024-03-21T18:18:11.912245",
     "status": "completed"
    },
    "tags": []
   },
   "outputs": [
    {
     "name": "stdout",
     "output_type": "stream",
     "text": [
      "<class 'pandas.core.frame.DataFrame'>\n",
      "RangeIndex: 60 entries, 0 to 59\n",
      "Data columns (total 15 columns):\n",
      " #   Column  Non-Null Count  Dtype  \n",
      "---  ------  --------------  -----  \n",
      " 0   TIME    60 non-null     float64\n",
      " 1   VO2     60 non-null     float64\n",
      " 2   VO2/kg  60 non-null     float64\n",
      " 3   METS    60 non-null     float64\n",
      " 4   VCO2    60 non-null     float64\n",
      " 5   VE      60 non-null     float64\n",
      " 6   RER     60 non-null     float64\n",
      " 7   RR      60 non-null     float64\n",
      " 8   Vt      60 non-null     float64\n",
      " 9   FEO2    60 non-null     float64\n",
      " 10  FECO2   60 non-null     float64\n",
      " 11  HR      60 non-null     float64\n",
      " 12  VE/     60 non-null     float64\n",
      " 13  VE/.1   60 non-null     float64\n",
      " 14  PetCO2  60 non-null     float64\n",
      "dtypes: float64(15)\n",
      "memory usage: 7.2 KB\n"
     ]
    }
   ],
   "source": [
    "df.info()"
   ]
  },
  {
   "cell_type": "markdown",
   "id": "4ef2b999",
   "metadata": {
    "papermill": {
     "duration": 0.006694,
     "end_time": "2024-03-21T18:18:11.964073",
     "exception": false,
     "start_time": "2024-03-21T18:18:11.957379",
     "status": "completed"
    },
    "tags": []
   },
   "source": [
    "### Rename some of the columns so they make sense\n",
    "you can rename them with the value TIME -> Time(min) but don't leave spaces if you want to auto-complete names..."
   ]
  },
  {
   "cell_type": "code",
   "execution_count": 4,
   "id": "dc6b4931",
   "metadata": {
    "execution": {
     "iopub.execute_input": "2024-03-21T18:18:11.979820Z",
     "iopub.status.busy": "2024-03-21T18:18:11.979401Z",
     "iopub.status.idle": "2024-03-21T18:18:11.985301Z",
     "shell.execute_reply": "2024-03-21T18:18:11.984192Z"
    },
    "papermill": {
     "duration": 0.016754,
     "end_time": "2024-03-21T18:18:11.987754",
     "exception": false,
     "start_time": "2024-03-21T18:18:11.971000",
     "status": "completed"
    },
    "tags": []
   },
   "outputs": [],
   "source": [
    "df = df.rename(columns={'VE/': 'VE/VO2','VE/.1': 'VE/VCO2'})"
   ]
  },
  {
   "cell_type": "code",
   "execution_count": 5,
   "id": "96a84d84",
   "metadata": {
    "execution": {
     "iopub.execute_input": "2024-03-21T18:18:12.003846Z",
     "iopub.status.busy": "2024-03-21T18:18:12.002679Z",
     "iopub.status.idle": "2024-03-21T18:18:12.015922Z",
     "shell.execute_reply": "2024-03-21T18:18:12.014415Z"
    },
    "papermill": {
     "duration": 0.023919,
     "end_time": "2024-03-21T18:18:12.018454",
     "exception": false,
     "start_time": "2024-03-21T18:18:11.994535",
     "status": "completed"
    },
    "tags": []
   },
   "outputs": [
    {
     "name": "stdout",
     "output_type": "stream",
     "text": [
      "<class 'pandas.core.frame.DataFrame'>\n",
      "RangeIndex: 60 entries, 0 to 59\n",
      "Data columns (total 15 columns):\n",
      " #   Column   Non-Null Count  Dtype  \n",
      "---  ------   --------------  -----  \n",
      " 0   TIME     60 non-null     float64\n",
      " 1   VO2      60 non-null     float64\n",
      " 2   VO2/kg   60 non-null     float64\n",
      " 3   METS     60 non-null     float64\n",
      " 4   VCO2     60 non-null     float64\n",
      " 5   VE       60 non-null     float64\n",
      " 6   RER      60 non-null     float64\n",
      " 7   RR       60 non-null     float64\n",
      " 8   Vt       60 non-null     float64\n",
      " 9   FEO2     60 non-null     float64\n",
      " 10  FECO2    60 non-null     float64\n",
      " 11  HR       60 non-null     float64\n",
      " 12  VE/VO2   60 non-null     float64\n",
      " 13  VE/VCO2  60 non-null     float64\n",
      " 14  PetCO2   60 non-null     float64\n",
      "dtypes: float64(15)\n",
      "memory usage: 7.2 KB\n"
     ]
    }
   ],
   "source": [
    "df.info()"
   ]
  },
  {
   "cell_type": "code",
   "execution_count": 6,
   "id": "11b540c2",
   "metadata": {
    "execution": {
     "iopub.execute_input": "2024-03-21T18:18:12.034629Z",
     "iopub.status.busy": "2024-03-21T18:18:12.033499Z",
     "iopub.status.idle": "2024-03-21T18:18:12.039787Z",
     "shell.execute_reply": "2024-03-21T18:18:12.038400Z"
    },
    "papermill": {
     "duration": 0.016727,
     "end_time": "2024-03-21T18:18:12.042184",
     "exception": false,
     "start_time": "2024-03-21T18:18:12.025457",
     "status": "completed"
    },
    "tags": []
   },
   "outputs": [],
   "source": [
    "import matplotlib.pyplot as plt"
   ]
  },
  {
   "cell_type": "markdown",
   "id": "7e8924a9",
   "metadata": {
    "papermill": {
     "duration": 0.00665,
     "end_time": "2024-03-21T18:18:12.055882",
     "exception": false,
     "start_time": "2024-03-21T18:18:12.049232",
     "status": "completed"
    },
    "tags": []
   },
   "source": [
    "### Create our big plot...\n",
    "1st define our variables x,y,& y1"
   ]
  },
  {
   "cell_type": "code",
   "execution_count": 7,
   "id": "084b8e0c",
   "metadata": {
    "execution": {
     "iopub.execute_input": "2024-03-21T18:18:12.071571Z",
     "iopub.status.busy": "2024-03-21T18:18:12.071192Z",
     "iopub.status.idle": "2024-03-21T18:18:12.076034Z",
     "shell.execute_reply": "2024-03-21T18:18:12.075225Z"
    },
    "papermill": {
     "duration": 0.015305,
     "end_time": "2024-03-21T18:18:12.078108",
     "exception": false,
     "start_time": "2024-03-21T18:18:12.062803",
     "status": "completed"
    },
    "tags": []
   },
   "outputs": [],
   "source": [
    "# simplify our terms to reduce future typing...\n",
    "x = df['TIME']\n",
    "y = df['VO2']\n",
    "y1 = df['VE']"
   ]
  },
  {
   "cell_type": "markdown",
   "id": "85248f14",
   "metadata": {
    "papermill": {
     "duration": 0.006686,
     "end_time": "2024-03-21T18:18:12.092698",
     "exception": false,
     "start_time": "2024-03-21T18:18:12.086012",
     "status": "completed"
    },
    "tags": []
   },
   "source": [
    "#### Find the position where max occurs, on each axes"
   ]
  },
  {
   "cell_type": "code",
   "execution_count": 8,
   "id": "89af4f50",
   "metadata": {
    "execution": {
     "iopub.execute_input": "2024-03-21T18:18:12.110375Z",
     "iopub.status.busy": "2024-03-21T18:18:12.109629Z",
     "iopub.status.idle": "2024-03-21T18:18:12.114733Z",
     "shell.execute_reply": "2024-03-21T18:18:12.113618Z"
    },
    "papermill": {
     "duration": 0.017581,
     "end_time": "2024-03-21T18:18:12.117137",
     "exception": false,
     "start_time": "2024-03-21T18:18:12.099556",
     "status": "completed"
    },
    "tags": []
   },
   "outputs": [],
   "source": [
    "#Find VO2 max value \n",
    "ymax = max(y)\n",
    "\n",
    "# find the x position of the ymax value or where ymax occurs on the x axis\n",
    "xmax = x[y.argmax()]"
   ]
  },
  {
   "cell_type": "markdown",
   "id": "9e2d4b54",
   "metadata": {
    "papermill": {
     "duration": 0.006589,
     "end_time": "2024-03-21T18:18:12.130795",
     "exception": false,
     "start_time": "2024-03-21T18:18:12.124206",
     "status": "completed"
    },
    "tags": []
   },
   "source": [
    "#### Now we can discover what these values are"
   ]
  },
  {
   "cell_type": "code",
   "execution_count": 9,
   "id": "133def1a",
   "metadata": {
    "execution": {
     "iopub.execute_input": "2024-03-21T18:18:12.147291Z",
     "iopub.status.busy": "2024-03-21T18:18:12.145983Z",
     "iopub.status.idle": "2024-03-21T18:18:12.152220Z",
     "shell.execute_reply": "2024-03-21T18:18:12.151264Z"
    },
    "papermill": {
     "duration": 0.016715,
     "end_time": "2024-03-21T18:18:12.154346",
     "exception": false,
     "start_time": "2024-03-21T18:18:12.137631",
     "status": "completed"
    },
    "tags": []
   },
   "outputs": [
    {
     "name": "stdout",
     "output_type": "stream",
     "text": [
      "3.718159437\n",
      "29.00016212\n"
     ]
    }
   ],
   "source": [
    "print(ymax)\n",
    "print(xmax)"
   ]
  },
  {
   "cell_type": "markdown",
   "id": "3d5de419",
   "metadata": {
    "papermill": {
     "duration": 0.007078,
     "end_time": "2024-03-21T18:18:12.168772",
     "exception": false,
     "start_time": "2024-03-21T18:18:12.161694",
     "status": "completed"
    },
    "tags": []
   },
   "source": [
    "#### Create the frame and the axis that we will plot in"
   ]
  },
  {
   "cell_type": "code",
   "execution_count": 10,
   "id": "075bfdfb",
   "metadata": {
    "execution": {
     "iopub.execute_input": "2024-03-21T18:18:12.185116Z",
     "iopub.status.busy": "2024-03-21T18:18:12.184414Z",
     "iopub.status.idle": "2024-03-21T18:18:12.488130Z",
     "shell.execute_reply": "2024-03-21T18:18:12.486892Z"
    },
    "papermill": {
     "duration": 0.314655,
     "end_time": "2024-03-21T18:18:12.490442",
     "exception": false,
     "start_time": "2024-03-21T18:18:12.175787",
     "status": "completed"
    },
    "tags": []
   },
   "outputs": [
    {
     "data": {
      "image/png": "[encoded data removed]",
      "text/plain": [
       "<Figure size 640x480 with 2 Axes>"
      ]
     },
     "metadata": {},
     "output_type": "display_data"
    }
   ],
   "source": [
    "# break up the figure and axis definitions of a plot \n",
    "# so it is easier to assign values\n",
    "\n",
    "fig, ax = plt.subplots(2, 1, sharex=True)\n",
    "\n",
    "# create 2 subplots share x axis, in the next line we will remove \n",
    "# spaces between the horizontal axis, play with this value to see what happens the value can be 0.01 for example\n",
    "\n",
    "fig.subplots_adjust(hspace=0.1\n",
    "                   )"
   ]
  },
  {
   "cell_type": "markdown",
   "id": "4f2d6121",
   "metadata": {
    "papermill": {
     "duration": 0.007152,
     "end_time": "2024-03-21T18:18:12.505225",
     "exception": false,
     "start_time": "2024-03-21T18:18:12.498073",
     "status": "completed"
    },
    "tags": []
   },
   "source": [
    "#### Now that we have that axis value specified, annotate the position and marker for VO2 max"
   ]
  },
  {
   "cell_type": "code",
   "execution_count": 11,
   "id": "ac16c675",
   "metadata": {
    "execution": {
     "iopub.execute_input": "2024-03-21T18:18:12.521965Z",
     "iopub.status.busy": "2024-03-21T18:18:12.521585Z",
     "iopub.status.idle": "2024-03-21T18:18:12.530062Z",
     "shell.execute_reply": "2024-03-21T18:18:12.528985Z"
    },
    "papermill": {
     "duration": 0.020523,
     "end_time": "2024-03-21T18:18:12.533128",
     "exception": false,
     "start_time": "2024-03-21T18:18:12.512605",
     "status": "completed"
    },
    "tags": []
   },
   "outputs": [
    {
     "data": {
      "text/plain": [
       "Text(29.50016212, 4.718159437000001, '$\\\\dot VO_2max$ =(3.72) L/min')"
      ]
     },
     "execution_count": 11,
     "metadata": {},
     "output_type": "execute_result"
    }
   ],
   "source": [
    "ax[0].annotate('$\\dot VO_2max$ =({}) L/min'.format(round(ymax, 2)), \n",
    "               xy=(xmax, ymax), xytext=(xmax+.5, ymax+ 1),\n",
    "               arrowprops=dict(facecolor='red', shrink= 0.05),\n",
    "                )"
   ]
  },
  {
   "cell_type": "markdown",
   "id": "69465737",
   "metadata": {
    "papermill": {
     "duration": 0.007562,
     "end_time": "2024-03-21T18:18:12.548350",
     "exception": false,
     "start_time": "2024-03-21T18:18:12.540788",
     "status": "completed"
    },
    "tags": []
   },
   "source": [
    "#### For the first plot ax[0] we create the lable and make it red\n",
    "Then we get rid of the right and top plot frame\n",
    "We set the y axis lab as \"L/min\" and tell it to print a legend"
   ]
  },
  {
   "cell_type": "code",
   "execution_count": 12,
   "id": "ff5a4d27",
   "metadata": {
    "execution": {
     "iopub.execute_input": "2024-03-21T18:18:12.565447Z",
     "iopub.status.busy": "2024-03-21T18:18:12.564776Z",
     "iopub.status.idle": "2024-03-21T18:18:12.577328Z",
     "shell.execute_reply": "2024-03-21T18:18:12.576323Z"
    },
    "papermill": {
     "duration": 0.023778,
     "end_time": "2024-03-21T18:18:12.579598",
     "exception": false,
     "start_time": "2024-03-21T18:18:12.555820",
     "status": "completed"
    },
    "tags": []
   },
   "outputs": [
    {
     "data": {
      "text/plain": [
       "<matplotlib.legend.Legend at 0x7a0bb9869550>"
      ]
     },
     "execution_count": 12,
     "metadata": {},
     "output_type": "execute_result"
    }
   ],
   "source": [
    "ax[0].plot(x, y,  label=('$\\dot VO_2$'), c='r' )\n",
    "ax[0].spines[['right', 'top']].set_visible(False)\n",
    "#note all these set features could be added in one line but reading it would be difficult\n",
    "#ax.set(title = ('$\\dot VO_2$'), label=('$\\dot VO_2$ L/min'))  \n",
    "ax[0].set(ylabel=('L/min'))\n",
    "ax[0].legend()\n"
   ]
  },
  {
   "cell_type": "markdown",
   "id": "da3ce8af",
   "metadata": {
    "papermill": {
     "duration": 0.007409,
     "end_time": "2024-03-21T18:18:12.594926",
     "exception": false,
     "start_time": "2024-03-21T18:18:12.587517",
     "status": "completed"
    },
    "tags": []
   },
   "source": [
    "#### Same thing for the second plot *note* we don't see the plot because we have not ploted the plot"
   ]
  },
  {
   "cell_type": "code",
   "execution_count": 13,
   "id": "74ce7ab1",
   "metadata": {
    "execution": {
     "iopub.execute_input": "2024-03-21T18:18:12.612358Z",
     "iopub.status.busy": "2024-03-21T18:18:12.611597Z",
     "iopub.status.idle": "2024-03-21T18:18:12.622018Z",
     "shell.execute_reply": "2024-03-21T18:18:12.620874Z"
    },
    "papermill": {
     "duration": 0.021958,
     "end_time": "2024-03-21T18:18:12.624485",
     "exception": false,
     "start_time": "2024-03-21T18:18:12.602527",
     "status": "completed"
    },
    "tags": []
   },
   "outputs": [
    {
     "data": {
      "text/plain": [
       "<matplotlib.legend.Legend at 0x7a0bb99b56d0>"
      ]
     },
     "execution_count": 13,
     "metadata": {},
     "output_type": "execute_result"
    }
   ],
   "source": [
    "# Second plot of values down from the top\n",
    "ax[1].plot(x, y1, label=('VE'), c='b')\n",
    "ax[1].spines[['top', 'right']].set_visible(False)\n",
    "ax[1].set(ylabel=('L/min'))\n",
    "ax[1].legend()"
   ]
  },
  {
   "cell_type": "markdown",
   "id": "5689db3a",
   "metadata": {
    "papermill": {
     "duration": 0.007717,
     "end_time": "2024-03-21T18:18:12.640071",
     "exception": false,
     "start_time": "2024-03-21T18:18:12.632354",
     "status": "completed"
    },
    "tags": []
   },
   "source": [
    "#### We can now create a file with our first plot! We will save the plot first for reasons discussed"
   ]
  },
  {
   "cell_type": "code",
   "execution_count": 14,
   "id": "8c7e4e79",
   "metadata": {
    "execution": {
     "iopub.execute_input": "2024-03-21T18:18:12.657060Z",
     "iopub.status.busy": "2024-03-21T18:18:12.656631Z",
     "iopub.status.idle": "2024-03-21T18:18:13.393047Z",
     "shell.execute_reply": "2024-03-21T18:18:13.391797Z"
    },
    "papermill": {
     "duration": 0.748244,
     "end_time": "2024-03-21T18:18:13.395947",
     "exception": false,
     "start_time": "2024-03-21T18:18:12.647703",
     "status": "completed"
    },
    "tags": []
   },
   "outputs": [],
   "source": [
    "fig.savefig(\"VO2-VE-3.png\", dpi=300, bbox_inches = \"tight\")"
   ]
  },
  {
   "cell_type": "markdown",
   "id": "23eb1644",
   "metadata": {
    "papermill": {
     "duration": 0.007435,
     "end_time": "2024-03-21T18:18:13.411357",
     "exception": false,
     "start_time": "2024-03-21T18:18:13.403922",
     "status": "completed"
    },
    "tags": []
   },
   "source": [
    "#### As this is an interactive space we need to put all the code together for it to plot out interactively..."
   ]
  },
  {
   "cell_type": "code",
   "execution_count": 15,
   "id": "43b01ebf",
   "metadata": {
    "execution": {
     "iopub.execute_input": "2024-03-21T18:18:13.428743Z",
     "iopub.status.busy": "2024-03-21T18:18:13.428318Z",
     "iopub.status.idle": "2024-03-21T18:18:14.531418Z",
     "shell.execute_reply": "2024-03-21T18:18:14.530534Z"
    },
    "papermill": {
     "duration": 1.114667,
     "end_time": "2024-03-21T18:18:14.533642",
     "exception": false,
     "start_time": "2024-03-21T18:18:13.418975",
     "status": "completed"
    },
    "tags": []
   },
   "outputs": [
    {
     "data": {
      "image/png": "[encoded data removed]",
      "text/plain": [
       "<Figure size 640x480 with 2 Axes>"
      ]
     },
     "metadata": {},
     "output_type": "display_data"
    }
   ],
   "source": [
    "# break up the figure and axis definitions of a plot \n",
    "# so it is easier to assign values\n",
    "fig, ax = plt.subplots(2, 1, sharex=True)  # Height increased from default\n",
    "# spaces between the horizontal axis, play with this value?\n",
    "fig.subplots_adjust(hspace=0)\n",
    "\n",
    "\n",
    "ax[0].annotate('$\\dot VO_2max$ =({}) L/min'.format(round(ymax, 2)), \n",
    "               xy=(xmax, ymax), xytext=(xmax+.5, ymax+ 1),\n",
    "               arrowprops=dict(facecolor='red', shrink= 0.05),\n",
    "                )\n",
    "\n",
    "ax[0].plot(x, y,  label=('$\\dot VO_2$'), c='r' )\n",
    "ax[0].spines[['right', 'top']].set_visible(False)\n",
    "#note all these set features could be added in one line but reading it would be difficult\n",
    "#ax.set(title = ('$\\dot VO_2$'), label=('$\\dot VO_2$ L/min'))  \n",
    "ax[0].set(ylabel=('L/min'))\n",
    "ax[0].legend()\n",
    "\n",
    "# Second plot of values down from the top\n",
    "ax[1].plot(x, y1, label=('VE'), c='b')\n",
    "ax[1].spines[['top', 'right']].set_visible(False)\n",
    "ax[1].set(ylabel=('breaths/min'))\n",
    "ax[1].legend()\n",
    "\n",
    "#ax[0].set_ylim(min(y) - 1, max(y) + 1)  # Adjust as needed for your data\n",
    "#ax[1].set_ylim(min(y1) - 1, max(y1) + 1)  # Adjust as needed\n",
    "\n",
    "# save the figure before we show it... or it will be blank\n",
    "fig.savefig(\"VO2-VE-3.png\", dpi=300, bbox_inches = \"tight\")\n",
    "fig.show()"
   ]
  },
  {
   "cell_type": "markdown",
   "id": "b6de85b2",
   "metadata": {
    "papermill": {
     "duration": 0.008132,
     "end_time": "2024-03-21T18:18:14.550440",
     "exception": false,
     "start_time": "2024-03-21T18:18:14.542308",
     "status": "completed"
    },
    "tags": []
   },
   "source": [
    "### We can put this all together now in one code block that does everything...\n",
    "\n",
    "We have built up each part seperatly in the code above to make sure that all parts of our code should and do work.  Now that we know everything works we can take the next step of putting it together in one code block so we don't run into coherence problems (running things out of order).  We will run everything in one block now, this is a self contained python file and you could turn it into a .py file and run it from the command line and if your path to the datafile was accurate it would run and save the image file."
   ]
  },
  {
   "cell_type": "code",
   "execution_count": 16,
   "id": "e79c9d81",
   "metadata": {
    "execution": {
     "iopub.execute_input": "2024-03-21T18:18:14.569619Z",
     "iopub.status.busy": "2024-03-21T18:18:14.568512Z",
     "iopub.status.idle": "2024-03-21T18:18:15.965993Z",
     "shell.execute_reply": "2024-03-21T18:18:15.964797Z"
    },
    "papermill": {
     "duration": 1.409666,
     "end_time": "2024-03-21T18:18:15.968498",
     "exception": false,
     "start_time": "2024-03-21T18:18:14.558832",
     "status": "completed"
    },
    "tags": []
   },
   "outputs": [
    {
     "data": {
      "image/png": "[encoded data removed]",
      "text/plain": [
       "<Figure size 800x1000 with 2 Axes>"
      ]
     },
     "metadata": {},
     "output_type": "display_data"
    }
   ],
   "source": [
    "import numpy as np\n",
    "import pandas as pd\n",
    "import matplotlib.pyplot as plt\n",
    "\n",
    "df = pd.read_csv('../input/demo-knes381/subject_1432.csv', header=[0], skiprows=[1,2,3])\n",
    "df = df.rename(columns={'VE/': 'VE/VO2','VE/.1': 'VE/VCO2'})\n",
    "\n",
    "x = df['TIME']\n",
    "y = df['VO2']\n",
    "y1 = df['VE']\n",
    "\n",
    "# Find VO2 max value \n",
    "ymax = max(y)\n",
    "\n",
    "# Find the x position of the ymax value or where ymax occurs on the x axis\n",
    "xmax = x[y.argmax()]\n",
    "\n",
    "fig, ax = plt.subplots(2, 1, sharex=True, figsize=(8, 10))\n",
    "fig.subplots_adjust(hspace=0)\n",
    "\n",
    "# Annotate the position of V02max\n",
    "ax[0].annotate('$\\dot VO_2max$ =({}) L/min'.format(round(ymax, 2)), \n",
    "               xy=(xmax, ymax), xytext=(xmax+.5, ymax+ .5),\n",
    "               arrowprops=dict(facecolor='red', shrink= 0.05),\n",
    "                )\n",
    "\n",
    "# First plot\n",
    "ax[0].plot(x, y, 'o', label=('$\\dot VO_2$'), c='r' )\n",
    "ax[0].spines[['right', 'top']].set_visible(False)\n",
    "ax[0].set(ylabel=('L/min'))\n",
    "ax[0].legend()\n",
    "\n",
    "# Second plot\n",
    "ax[1].plot(x, y1, 'o', label=('VE'), c='b')\n",
    "ax[1].spines[['top', 'right']].set_visible(False)\n",
    "ax[1].set(ylabel=('breaths/min'))\n",
    "ax[1].set(xlabel=('Time(min)'))\n",
    "ax[1].legend()\n",
    "\n",
    "# Saving the figure\n",
    "fig.savefig(\"VO2-VE-4.png\", dpi=300, bbox_inches = \"tight\")\n",
    "fig.show()"
   ]
  },
  {
   "cell_type": "markdown",
   "id": "f392d48a",
   "metadata": {
    "papermill": {
     "duration": 0.008845,
     "end_time": "2024-03-21T18:18:15.986798",
     "exception": false,
     "start_time": "2024-03-21T18:18:15.977953",
     "status": "completed"
    },
    "tags": []
   },
   "source": [
    "### Please note that if you change the file path of the datafile in the code block above you create an completely new graph for your new data, all by changing just one line of code...\n",
    "Also I have changed the marker form a line to dots, can you see somthing about the data that was hidden before when it was plotted in lines?"
   ]
  },
  {
   "cell_type": "code",
   "execution_count": 17,
   "id": "fbca62a0",
   "metadata": {
    "execution": {
     "iopub.execute_input": "2024-03-21T18:18:16.007085Z",
     "iopub.status.busy": "2024-03-21T18:18:16.006661Z",
     "iopub.status.idle": "2024-03-21T18:18:16.927979Z",
     "shell.execute_reply": "2024-03-21T18:18:16.927105Z"
    },
    "papermill": {
     "duration": 0.934688,
     "end_time": "2024-03-21T18:18:16.930519",
     "exception": false,
     "start_time": "2024-03-21T18:18:15.995831",
     "status": "completed"
    },
    "tags": []
   },
   "outputs": [
    {
     "data": {
      "image/png": "[encoded data removed]",
      "text/plain": [
       "<Figure size 640x480 with 2 Axes>"
      ]
     },
     "metadata": {},
     "output_type": "display_data"
    }
   ],
   "source": [
    "import numpy as np\n",
    "import pandas as pd\n",
    "import matplotlib.pyplot as plt\n",
    "\n",
    "df = pd.read_csv('../input/demo-knes381/subject_1432.csv', header=[0], skiprows=[1,2,3])\n",
    "df = df.rename(columns={'VE/': 'VE/VO2','VE/.1': 'VE/VCO2'})\n",
    "\n",
    "fig, ax = plt.subplots(2, 1, sharex=True)\n",
    "fig.subplots_adjust(hspace=0)\n",
    "\n",
    "# Values\n",
    "x = df['VO2']\n",
    "y = df['FECO2']\n",
    "y1 = df['VCO2']\n",
    "\n",
    "# First plot\n",
    "ax[0].scatter(x, y, label=('FECO$_2$'), c='b', s=10)\n",
    "ax[0].spines[['top', 'right']].set_visible(False)\n",
    "ax[0].set(ylabel=('%'))\n",
    "ax[0].legend(loc='upper left')\n",
    "\n",
    "# Second plot\n",
    "ax[1].scatter(x, y1, label=('$\\dot{V}$CO$_2$'), c='C4', s=10)\n",
    "ax[1].spines[['top', 'right']].set_visible(False)\n",
    "ax[1].set(ylabel=('L/min'))\n",
    "ax[1].legend()\n",
    "\n",
    "# Add vertical lines\n",
    "gas_exchange_threshold = 1.95\n",
    "respiratory_compensation = 3.1\n",
    "\n",
    "# Line for gas exchange threshold\n",
    "ax[0].axvline(x=gas_exchange_threshold, color='k', linestyle='--', label='Gas Exchange Threshold')\n",
    "ax[1].axvline(x=gas_exchange_threshold, color='k', linestyle='--', label='Gas Exchange Threshold')\n",
    "\n",
    "# Line for respiratory compensation\n",
    "ax[0].axvline(x=respiratory_compensation, color='b', linestyle='-.', label='Respiratory Compensation')\n",
    "ax[1].axvline(x=respiratory_compensation, color='b', linestyle='-.', label='Respiratory Compensation')\n",
    "\n",
    "# Labels for vertical lines\n",
    "ax[0].text(gas_exchange_threshold, ax[0].get_ylim()[1], 'Gas Exchange Threshold', color='k', fontsize=10, ha='center', va='bottom')\n",
    "ax[0].text(respiratory_compensation, ax[0].get_ylim()[1], 'Respiratory Compensation', color='b', fontsize=10, ha='center', va='bottom')\n",
    "\n",
    "fig.savefig(\"FECO2-VCO2-VO2.png\", dpi=300, bbox_inches = \"tight\")\n",
    "fig.show()"
   ]
  }
 ],
 "metadata": {
  "kaggle": {
   "accelerator": "none",
   "dataSources": [
    {
     "datasetId": 2952233,
     "sourceId": 5084312,
     "sourceType": "datasetVersion"
    }
   ],
   "dockerImageVersionId": 30407,
   "isGpuEnabled": false,
   "isInternetEnabled": false,
   "language": "python",
   "sourceType": "notebook"
  },
  "kernelspec": {
   "display_name": "Python 3",
   "language": "python",
   "name": "python3"
  },
  "language_info": {
   "codemirror_mode": {
    "name": "ipython",
    "version": 3
   },
   "file_extension": ".py",
   "mimetype": "text/x-python",
   "name": "python",
   "nbconvert_exporter": "python",
   "pygments_lexer": "ipython3",
   "version": "3.7.12"
  },
  "papermill": {
   "default_parameters": {},
   "duration": 16.498956,
   "end_time": "2024-03-21T18:18:17.561871",
   "environment_variables": {},
   "exception": null,
   "input_path": "__notebook__.ipynb",
   "output_path": "__notebook__.ipynb",
   "parameters": {},
   "start_time": "2024-03-21T18:18:01.062915",
   "version": "2.4.0"
  }
 },
 "nbformat": 4,
 "nbformat_minor": 5
}
